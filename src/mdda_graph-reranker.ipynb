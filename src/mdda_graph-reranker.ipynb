{
 "cells": [
  {
   "cell_type": "code",
   "execution_count": null,
   "metadata": {},
   "outputs": [],
   "source": [
    "from pydantic import BaseModel\n",
    "from typing import List, Optional, Dict, Tuple, Set, Union\n",
    "\n",
    "from collections import defaultdict\n",
    "\n",
    "import dataset"
   ]
  },
  {
   "cell_type": "code",
   "execution_count": null,
   "metadata": {},
   "outputs": [],
   "source": [
    "regenerate=False\n",
    "statements = dataset.load_statements(regenerate=regenerate)\n",
    "statements_by_uid = { s.uid:s for s in statements }"
   ]
  },
  {
   "cell_type": "code",
   "execution_count": null,
   "metadata": {},
   "outputs": [],
   "source": [
    "with open(\"../tg2020task/tableindex.txt\", \"rt\") as f:\n",
    "    table_names = ['Q', 'A-right', 'A-wrong', ]  \n",
    "    table_names += [ l.strip().replace('.tsv', '') for l in f ]\n",
    "name_to_table_idx = { n:i for i,n in enumerate(table_names) }\n",
    "table_names[:6]"
   ]
  },
  {
   "cell_type": "code",
   "execution_count": null,
   "metadata": {},
   "outputs": [],
   "source": [
    "qanda = [] # Gather all question\n",
    "for fold in 'train|dev|test'.split('|'):\n",
    "    # Train set has 1 question without explanations: Mercury_7221305\n",
    "    qanda += [qa for qa in dataset.load_qanda(fold, regenerate=regenerate)\n",
    "               if fold=='test' or len(qa.explanation_gold)>0]"
   ]
  },
  {
   "cell_type": "code",
   "execution_count": null,
   "metadata": {},
   "outputs": [],
   "source": [
    "class Node(BaseModel):\n",
    "    id:Union[str, dataset.UID]\n",
    "    is_statement:bool=False\n",
    "    is_question:bool =False; n_q:int=0\n",
    "    is_ansY:bool     =False\n",
    "    is_ansN:bool     =False\n",
    "    raw_txt:str\n",
    "    keywords:dataset.Keywords\n",
    "    table:str"
   ]
  },
  {
   "cell_type": "code",
   "execution_count": null,
   "metadata": {},
   "outputs": [],
   "source": [
    "graph_nodes:List[Node] = []"
   ]
  },
  {
   "cell_type": "code",
   "execution_count": null,
   "metadata": {},
   "outputs": [],
   "source": [
    "for s in statements:\n",
    "    graph_nodes.append( Node(id=s.uid, is_statement=True,\n",
    "                             keywords=s.keywords, raw_txt=s.raw_txt, \n",
    "                             table=name_to_table_idx[s.table], ) )"
   ]
  },
  {
   "cell_type": "code",
   "execution_count": null,
   "metadata": {},
   "outputs": [],
   "source": [
    "for qa in qanda:\n",
    "    graph_nodes.append( Node(id=qa.question_id, is_question=True, n_q=len(qa.answers),\n",
    "                             keywords=qa.question.keywords, raw_txt=qa.question.raw_txt, \n",
    "                             table=name_to_table_idx['Q'], ) )\n",
    "    for i,ans in enumerate(qa.answers):\n",
    "        graph_nodes.append( Node(id=f\"{qa.question_id}_A{i}\", \n",
    "                                 is_ansY=(i==0), is_ansN=(i>0),\n",
    "                                 keywords=ans.keywords, raw_txt=ans.raw_txt, \n",
    "                                  table=name_to_table_idx['A-right' if i==0 else 'A-wrong'], ) )"
   ]
  },
  {
   "cell_type": "code",
   "execution_count": null,
   "metadata": {},
   "outputs": [],
   "source": [
    "print(f\"{len(graph_nodes):,}\") # 33,872"
   ]
  },
  {
   "cell_type": "code",
   "execution_count": null,
   "metadata": {},
   "outputs": [],
   "source": [
    "# form a big list of keyword->node, so we can then do edges from that\n",
    "kw_to_graph_idx = defaultdict(list)\n",
    "for idx, node in enumerate(graph_nodes):\n",
    "    for kw in node.keywords:\n",
    "        kw_to_graph_idx[kw].append(idx)\n",
    "print(len(kw_to_graph_idx)) # 6540"
   ]
  },
  {
   "cell_type": "code",
   "execution_count": null,
   "metadata": {},
   "outputs": [],
   "source": [
    "for kw, arr in kw_to_graph_idx.items():\n",
    "    if len(arr)>500: \n",
    "        print(kw, len(arr))"
   ]
  },
  {
   "cell_type": "code",
   "execution_count": null,
   "metadata": {},
   "outputs": [],
   "source": [
    "graph_edges=[]\n",
    "for kw, arr in kw_to_graph_idx.items():\n",
    "    for i in arr:\n",
    "        for j in arr:\n",
    "            if i==j:continue\n",
    "            graph_edges.append( (i,j) )\n",
    "print(f\"{len(graph_edges):,}\") # 34,527,162"
   ]
  },
  {
   "cell_type": "code",
   "execution_count": null,
   "metadata": {},
   "outputs": [],
   "source": [
    "# Remove duplicate links\n",
    "graph_edges = set(graph_edges)\n",
    "print(f\"n_edges={len(graph_edges):,}, \"+\n",
    "      f\"edge_fraction={len(graph_edges)/len(graph_nodes)/len(graph_nodes)*100.:.2f}%\")\n",
    "# n_edges=31,695,592, edge_fraction=2.76%"
   ]
  },
  {
   "cell_type": "code",
   "execution_count": null,
   "metadata": {},
   "outputs": [],
   "source": []
  },
  {
   "cell_type": "code",
   "execution_count": null,
   "metadata": {},
   "outputs": [],
   "source": []
  }
 ],
 "metadata": {
  "kernelspec": {
   "display_name": "Python 3",
   "language": "python",
   "name": "python3"
  },
  "language_info": {
   "codemirror_mode": {
    "name": "ipython",
    "version": 3
   },
   "file_extension": ".py",
   "mimetype": "text/x-python",
   "name": "python",
   "nbconvert_exporter": "python",
   "pygments_lexer": "ipython3",
   "version": "3.8.3"
  }
 },
 "nbformat": 4,
 "nbformat_minor": 4
}
