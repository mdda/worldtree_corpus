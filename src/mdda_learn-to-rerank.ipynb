{
 "cells": [
  {
   "cell_type": "code",
   "execution_count": null,
   "metadata": {},
   "outputs": [],
   "source": [
    "import dataset"
   ]
  },
  {
   "cell_type": "code",
   "execution_count": null,
   "metadata": {},
   "outputs": [],
   "source": [
    "regenerate=False\n",
    "statements = dataset.load_statements(regenerate=regenerate)\n",
    "statements_by_uid = { s.uid:s for s in statements }"
   ]
  },
  {
   "cell_type": "code",
   "execution_count": null,
   "metadata": {},
   "outputs": [],
   "source": [
    "with open(\"../tg2020task/tableindex.txt\", \"rt\") as f:\n",
    "    table_names = [ l.strip().replace('.tsv', '') for l in f ]\n",
    "table_names[:4]"
   ]
  },
  {
   "cell_type": "code",
   "execution_count": null,
   "metadata": {},
   "outputs": [],
   "source": [
    "#regenerate=False\n",
    "#qanda_train = dataset.load_qanda('train', regenerate=regenerate) # 1.8MB\n",
    "#qanda_dev   = dataset.load_qanda('dev', regenerate=regenerate)   # 400k in 496 lines\n",
    "#qanda_test  = dataset.load_qanda('test', regenerate=regenerate)  # 800k"
   ]
  },
  {
   "cell_type": "code",
   "execution_count": null,
   "metadata": {},
   "outputs": [],
   "source": [
    "import os\n",
    "\n",
    "import numpy as np\n",
    "np.set_printoptions(precision=2, suppress=True, floatmode='fixed', sign=' ')\n",
    "\n",
    "import torch\n",
    "\n",
    "from torch.nn import functional as F\n",
    "from torch.utils.data import Dataset, DataLoader\n",
    "\n",
    "import pytorch_lightning as pl"
   ]
  },
  {
   "cell_type": "code",
   "execution_count": null,
   "metadata": {},
   "outputs": [],
   "source": [
    "RANK_MAX=512\n",
    "BATCH_SIZE=64"
   ]
  },
  {
   "cell_type": "code",
   "execution_count": null,
   "metadata": {},
   "outputs": [],
   "source": [
    "class RerankDataset(Dataset):\n",
    "    def __init__(self, fold='dev', preds_file='../predictions/predict.FOLD.baseline-retrieval.txt',\n",
    "                ):\n",
    "        self.fold  = fold\n",
    "        \n",
    "        regenerate=False\n",
    "        \n",
    "        # Train set has 1 question without explanations: Mercury_7221305\n",
    "        self.qanda = [qa for qa in dataset.load_qanda(fold, regenerate=regenerate)\n",
    "                         if fold!='test' and len(qa.explanation_gold)>0]\n",
    "        \n",
    "        # Load up prediction set\n",
    "        preds=dict() # qa_id -> [statements in order]\n",
    "        with open(preds_file.replace('FOLD', self.fold), 'rt') as f:\n",
    "            for l in f.readlines():\n",
    "                qid, uid = l.strip().split('\\t')\n",
    "                if qid not in preds: preds[qid]=[]\n",
    "                preds[qid].append(uid)\n",
    "        self.preds=preds\n",
    "        \n",
    "        # Create labels for the table names\n",
    "        table_label={t:i for i,t in enumerate(table_names)}\n",
    "        self.statement_tables = { s.uid:table_label[s.table] for s in statements }\n",
    "\n",
    "        # Load in other embedding points, etc here\n",
    "        \n",
    "    def __len__(self):\n",
    "        return len(self.qanda)\n",
    "\n",
    "    def __getitem__(self, idx):\n",
    "        qa = self.qanda[idx]\n",
    "        q_id=qa.question_id\n",
    "        \n",
    "        pred = self.preds[q_id][:RANK_MAX]\n",
    "        pred_uid_to_idx = { uid:i for i, uid in enumerate(pred) }\n",
    "        \n",
    "        pred_tables = np.array([ self.statement_tables[uid] for uid in pred ], dtype=np.long)\n",
    "        \n",
    "        labels = np.zeros( (RANK_MAX,), dtype=np.int32 )\n",
    "        for ex in qa.explanation_gold:\n",
    "            if ex.uid in pred_uid_to_idx:\n",
    "                labels[ pred_uid_to_idx[ex.uid] ] = 1\n",
    "        if labels.sum()==0: labels[0]=1 # Prevent NAN if nothing is 1\n",
    "        \n",
    "        return dict( idx=idx, q_id=qa.question_id,\n",
    "                        tables = pred_tables,\n",
    "                        labels = labels,\n",
    "                    )\n",
    "\n",
    "ds_dev=RerankDataset(fold='dev')"
   ]
  },
  {
   "cell_type": "code",
   "execution_count": null,
   "metadata": {},
   "outputs": [],
   "source": [
    "len(ds_dev), #ds_dev[20], table_names[74], table_names[21], table_names[11]"
   ]
  },
  {
   "cell_type": "code",
   "execution_count": null,
   "metadata": {},
   "outputs": [],
   "source": [
    "# pip install https://github.com/PytorchLightning/pytorch-lightning/archive/master.zip --upgrade\n",
    "class RerankDataModule(pl.LightningDataModule):\n",
    "    def __init__(self, batch_size=BATCH_SIZE):\n",
    "        super().__init__()\n",
    "        self.batch_size = batch_size\n",
    "        \n",
    "        self.ds_train = RerankDataset(fold='train')\n",
    "        self.ds_dev   = RerankDataset(fold='dev')\n",
    "        self.ds_test  = RerankDataset(fold='test')\n",
    "\n",
    "    def train_dataloader(self):               # REQUIRED\n",
    "        return DataLoader(self.ds_train, batch_size=self.batch_size, num_workers=8, shuffle=True)\n",
    "\n",
    "    def val_dataloader(self):\n",
    "        return DataLoader(self.ds_dev,   batch_size=self.batch_size, num_workers=4, shuffle=False)\n",
    "\n",
    "    #def test_dataloader(self):\n",
    "    #    return DataLoader(self.ds_test,  batch_size=self.batch_size, num_workers=4, shuffle=False)\n",
    "    \n",
    "dm = RerankDataModule()"
   ]
  },
  {
   "cell_type": "code",
   "execution_count": null,
   "metadata": {},
   "outputs": [],
   "source": [
    "import losses"
   ]
  },
  {
   "cell_type": "code",
   "execution_count": null,
   "metadata": {},
   "outputs": [],
   "source": [
    "class RerankModel(pl.LightningModule):\n",
    "    def __init__(self, hparams):\n",
    "        super().__init__()\n",
    "        self.save_hyperparameters()\n",
    "        self.hparams = hparams\n",
    "        \n",
    "        #uv_map     = torch.nn.Parameter( torch.randn( (1, h0, 256, 256) ), requires_grad=True )\n",
    "        #self.register_parameter(name='uv_map', param=uv_map)\n",
    "        \n",
    "        table_emb_size, hidden_size=8,64\n",
    "        self.table_embedding = torch.nn.Embedding(len(table_names), table_emb_size)\n",
    "\n",
    "        self.lstm1 = torch.nn.LSTM(input_size=1+table_emb_size, hidden_size=hidden_size,\n",
    "                                   num_layers=2,\n",
    "                                   batch_first=True, bidirectional=True)\n",
    "\n",
    "        self.gather = torch.nn.Linear(hidden_size*2, hidden_size)\n",
    "        self.gather_act = torch.nn.LeakyReLU()\n",
    "        #self.do = torch.nn.Dropout(p=0.1)\n",
    "        \n",
    "        self.final  = torch.nn.Linear(hidden_size, 1)\n",
    "        self.output = torch.nn.Sigmoid()  # Ensures between 0.0 ... 1.0, maintains order\n",
    "        \n",
    "        self.ranking_loss = losses.APLoss(nq=50)\n",
    "        \n",
    "    def forward(self, x_table):   \n",
    "        bs   = x_table.shape[0]\n",
    "        #base = torch.linspace(0.95, 0.05, steps=RANK_MAX).expand( (bs, -1) )\n",
    "        base = torch.linspace(+3.00, -3.00, steps=RANK_MAX).expand( (bs, -1) )  # With sigmoid\n",
    "        #print(f\"base.size() : {base.size()}\") # base.size() : torch.Size([16, 512])\n",
    "        #print(base[0,0:20])  # Makes sense\n",
    "        \n",
    "        x_table_emb = self.table_embedding(x_table)\n",
    "        #print(f\"x_table_emb.size() : {x_table_emb.size()}\") # x_table_emb.size() : torch.Size([16, 512, 8])\n",
    "        \n",
    "        x = torch.cat([base.unsqueeze(2), x_table_emb, ], axis=2)\n",
    "        #print(f\"x_cat.size() : {x.size()}\") # x_cat.size() : torch.Size([16, 512, 9])\n",
    "        \n",
    "        x, (hn, cn) = self.lstm1(x)  # , (self.h0, self.c0)\n",
    "        \n",
    "        x = self.gather_act( self.gather(x) )\n",
    "        #x = self.do(x)\n",
    "        #print(f\"x_gather.size() : {x.size()}\") # x_gather.size() : torch.Size([16, 512, 64])\n",
    "        \n",
    "        x = self.final(x).squeeze(2)\n",
    "        #print(f\"x_final.size() : {x.size()}\")  # x_final.size() : torch.Size([16, 512])\n",
    "\n",
    "        x = base + x  # Whole thing was a ResNet\n",
    "        #print(f\"x_resnet.size() : {x.size()}\") # x_resnet.size() : torch.Size([16, 512])\n",
    "\n",
    "        #return x\n",
    "        return self.output(x)  \n",
    "    \n",
    "    def loss_calc(self, ranks_pred, ranks_target):\n",
    "        loss_ap = self.ranking_loss(ranks_pred, ranks_target)-1.0\n",
    "        loss = ( loss_ap\n",
    "                 #self.hparams.alpha*self.relu(loss_match_diff) +\n",
    "                 #self.hparams.reg*( loss_id2 + loss_ex2 )\n",
    "               )\n",
    "        return loss, dict(\n",
    "            loss_ap=loss_ap, \n",
    "        )\n",
    "\n",
    "    def training_step(self, batch, batch_idx_within_epoch): # REQUIRED\n",
    "        ranks_pred = self(batch['tables'])\n",
    "        loss, log = self.loss_calc(ranks_pred, batch['labels'])\n",
    "        log.update(dict(train_loss=loss))\n",
    "        return {'loss': loss, 'log': log}\n",
    "\n",
    "    def configure_optimizers(self):           # REQUIRED\n",
    "        # https://pytorch-lightning.readthedocs.io/en/latest/optimizers.html#learning-rate-scheduling\n",
    "        #print([ n for n,p in self.named_parameters()])\n",
    "        optimizer=torch.optim.Adam(self.parameters(), lr=self.hparams.lr)\n",
    "        return optimizer\n",
    "\n",
    "    def validation_step(self, batch, batch_idx): # REQUIRED IF val_dataloader defined\n",
    "        ranks_pred = self(batch['tables'])\n",
    "        loss, log = self.loss_calc(ranks_pred, batch['labels'])\n",
    "        log.update(dict(check_loss=loss))\n",
    "        return log\n",
    "    \n",
    "    def validation_epoch_end(self, steps):\n",
    "        log=dict()\n",
    "        for agg in ['check_loss', ]: #'loss_point', 'loss_scale', 'loss_move']:\n",
    "            log[agg] = torch.stack( [x[agg] for x in steps] ).mean()\n",
    "        print(f\"{-log['check_loss']:.4f}\")\n",
    "        return {'val_loss': log['check_loss'], 'log':log }"
   ]
  },
  {
   "cell_type": "code",
   "execution_count": null,
   "metadata": {},
   "outputs": [],
   "source": [
    "from argparse import ArgumentParser, Namespace\n",
    "hparams = Namespace()  # alpha=2.0, beta=1.0, reg=0.05, gap=0.25\n",
    "hparams.lr=0.001\n",
    "\n",
    "rerank_model = RerankModel(hparams, ) "
   ]
  },
  {
   "cell_type": "code",
   "execution_count": null,
   "metadata": {},
   "outputs": [],
   "source": [
    "trainer = pl.Trainer(\n",
    "    #gpus=1,\n",
    "    max_epochs=20,\n",
    "    #max_epochs=5 if hparams.dilate else 20,\n",
    "    #auto_lr_find=True,\n",
    "    #fast_dev_run=True,\n",
    ")\n",
    "trainer.fit(rerank_model, dm)"
   ]
  },
  {
   "cell_type": "code",
   "execution_count": null,
   "metadata": {},
   "outputs": [],
   "source": [
    "# Save off the predictions for the given dataset"
   ]
  },
  {
   "cell_type": "code",
   "execution_count": null,
   "metadata": {},
   "outputs": [],
   "source": []
  },
  {
   "cell_type": "code",
   "execution_count": null,
   "metadata": {},
   "outputs": [],
   "source": []
  }
 ],
 "metadata": {
  "kernelspec": {
   "display_name": "Python 3",
   "language": "python",
   "name": "python3"
  },
  "language_info": {
   "codemirror_mode": {
    "name": "ipython",
    "version": 3
   },
   "file_extension": ".py",
   "mimetype": "text/x-python",
   "name": "python",
   "nbconvert_exporter": "python",
   "pygments_lexer": "ipython3",
   "version": "3.8.3"
  }
 },
 "nbformat": 4,
 "nbformat_minor": 4
}
