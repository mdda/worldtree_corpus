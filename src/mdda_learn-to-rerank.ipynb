{
 "cells": [
  {
   "cell_type": "code",
   "execution_count": null,
   "metadata": {},
   "outputs": [],
   "source": [
    "import dataset"
   ]
  },
  {
   "cell_type": "code",
   "execution_count": null,
   "metadata": {},
   "outputs": [],
   "source": [
    "regenerate=False\n",
    "statements = dataset.load_statements(regenerate=regenerate)\n",
    "statements_by_uid = { s.uid:s for s in statements }"
   ]
  },
  {
   "cell_type": "code",
   "execution_count": null,
   "metadata": {},
   "outputs": [],
   "source": [
    "#regenerate=False\n",
    "#qanda_train = dataset.load_qanda('train', regenerate=regenerate) # 1.8MB\n",
    "#qanda_dev   = dataset.load_qanda('dev', regenerate=regenerate)   # 400k in 496 lines\n",
    "#qanda_test  = dataset.load_qanda('test', regenerate=regenerate)  # 800k"
   ]
  },
  {
   "cell_type": "code",
   "execution_count": null,
   "metadata": {},
   "outputs": [],
   "source": [
    "import os\n",
    "\n",
    "import numpy as np\n",
    "np.set_printoptions(precision=2, suppress=True, floatmode='fixed', sign=' ')\n",
    "\n",
    "import torch\n",
    "\n",
    "from torch.nn import functional as F\n",
    "from torch.utils.data import Dataset, DataLoader\n",
    "\n",
    "import pytorch_lightning as pl"
   ]
  },
  {
   "cell_type": "code",
   "execution_count": null,
   "metadata": {},
   "outputs": [],
   "source": [
    "RANK_MAX=512\n",
    "BATCH_SIZE=8"
   ]
  },
  {
   "cell_type": "code",
   "execution_count": null,
   "metadata": {},
   "outputs": [],
   "source": [
    "class RerankDataset(Dataset):\n",
    "    def __init__(self, fold='dev', preds_file='../predictions/predict_baseline-retrieval.FOLD.txt',\n",
    "                ):\n",
    "        self.fold  = fold\n",
    "        \n",
    "        regenerate=False\n",
    "        \n",
    "        # Train set has 1 question without explanations: Mercury_7221305\n",
    "        self.qanda = [qa for qa in dataset.load_qanda(fold, regenerate=regenerate)\n",
    "                         if fold!='test' and len(qa.explanation_gold)>0]\n",
    "        \n",
    "        # Load up prediction set\n",
    "        preds=dict() # qa_id -> [statements in order]\n",
    "        with open(preds_file.replace('FOLD', self.fold), 'rt') as f:\n",
    "            for l in f.readlines():\n",
    "                qid, uid = l.strip().split('\\t')\n",
    "                if qid not in preds: preds[qid]=[]\n",
    "                preds[qid].append(uid)\n",
    "        self.preds=preds\n",
    "        \n",
    "        # Create labels for the table names\n",
    "        with open(\"../tg2020task/tableindex.txt\", \"rt\") as f:\n",
    "            tables = [ l.strip().replace('.tsv', '') for l in f ]\n",
    "        table_label={t:i for i,t in enumerate(tables)}\n",
    "        self.statement_tables = { s.uid:table_label[s.table] for s in statements }\n",
    "\n",
    "        # Load in other embedding points, etc here\n",
    "        \n",
    "    def __len__(self):\n",
    "        return len(self.qanda)\n",
    "\n",
    "    def __getitem__(self, idx):\n",
    "        qa = self.qanda[idx]\n",
    "        q_id=qa.question_id\n",
    "        pred = self.preds[q_id][:RANK_MAX]\n",
    "        \n",
    "        pred_tables = np.array([ self.statement_tables[uid] for uid in pred ], dtype=np.long)\n",
    "        pred_uid_to_idx = { uid:i for i, uid in enumerate(pred) }\n",
    "        \n",
    "        labels = np.zeros( (RANK_MAX,), dtype=np.int32 )\n",
    "        for ex in qa.explanation_gold:\n",
    "            if ex.uid in pred_uid_to_idx:\n",
    "                labels[ pred_uid_to_idx[ex.uid] ] = 1\n",
    "        if labels.sum()==0: labels[0]=1 # Prevent NAN if nothing is 1\n",
    "        \n",
    "        return dict( idx=idx, q_id=qa.question_id,\n",
    "                        x_tables=x_tables,\n",
    "                        labels  =labels,\n",
    "                    )\n",
    "\n",
    "#ds=RerankDataset()"
   ]
  },
  {
   "cell_type": "code",
   "execution_count": null,
   "metadata": {},
   "outputs": [],
   "source": [
    "# pip install https://github.com/PytorchLightning/pytorch-lightning/archive/master.zip --upgrade\n",
    "class RerankDataModule(pl.LightningDataModule):\n",
    "    def __init__(self, batch_size=BATCH_SIZE):\n",
    "        super().__init__()\n",
    "        self.batch_size = batch_size\n",
    "        \n",
    "        self.ds_train = RerankDataset(fold='train')\n",
    "        self.ds_dev   = RerankDataset(fold='dev')\n",
    "        self.ds_test  = RerankDataset(fold='test')\n",
    "\n",
    "    def train_dataloader(self):               # REQUIRED\n",
    "        return DataLoader(self.ds_train, batch_size=self.batch_size, num_workers=8, shuffle=True)\n",
    "\n",
    "    def val_dataloader(self):\n",
    "        return DataLoader(self.ds_dev,   batch_size=self.batch_size, num_workers=4, shuffle=False)\n",
    "\n",
    "    #def test_dataloader(self):\n",
    "    #    return DataLoader(self.ds_test,  batch_size=self.batch_size, num_workers=4, shuffle=False)\n",
    "    \n",
    "dm = RerankDataModule()"
   ]
  },
  {
   "cell_type": "code",
   "execution_count": null,
   "metadata": {},
   "outputs": [],
   "source": [
    "#        self.table_embedding = torch.nn.Embedding(, 8)\n"
   ]
  },
  {
   "cell_type": "code",
   "execution_count": null,
   "metadata": {},
   "outputs": [],
   "source": []
  }
 ],
 "metadata": {
  "kernelspec": {
   "display_name": "Python 3",
   "language": "python",
   "name": "python3"
  },
  "language_info": {
   "codemirror_mode": {
    "name": "ipython",
    "version": 3
   },
   "file_extension": ".py",
   "mimetype": "text/x-python",
   "name": "python",
   "nbconvert_exporter": "python",
   "pygments_lexer": "ipython3",
   "version": "3.8.3"
  }
 },
 "nbformat": 4,
 "nbformat_minor": 4
}
