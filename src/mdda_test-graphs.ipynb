{
 "cells": [
  {
   "cell_type": "code",
   "execution_count": 1,
   "metadata": {},
   "outputs": [],
   "source": [
    "import dataset"
   ]
  },
  {
   "cell_type": "code",
   "execution_count": 2,
   "metadata": {},
   "outputs": [],
   "source": [
    "regenerate=False\n",
    "statements = dataset.load_statements(regenerate=regenerate)\n",
    "statements_by_uid = { s.uid:s for s in statements }"
   ]
  },
  {
   "cell_type": "code",
   "execution_count": 3,
   "metadata": {},
   "outputs": [
    {
     "data": {
      "text/plain": [
       "4546"
      ]
     },
     "execution_count": 3,
     "metadata": {},
     "output_type": "execute_result"
    }
   ],
   "source": [
    "keyword_counts = dataset.get_keyword_counts_from_statements(statements)\n",
    "len(keyword_counts)"
   ]
  },
  {
   "cell_type": "code",
   "execution_count": null,
   "metadata": {},
   "outputs": [],
   "source": []
  },
  {
   "cell_type": "code",
   "execution_count": 4,
   "metadata": {},
   "outputs": [],
   "source": [
    "import networkx as nx\n",
    "G = nx.Graph()"
   ]
  },
  {
   "cell_type": "code",
   "execution_count": 5,
   "metadata": {},
   "outputs": [
    {
     "data": {
      "text/plain": [
       "12039"
      ]
     },
     "execution_count": 5,
     "metadata": {},
     "output_type": "execute_result"
    }
   ],
   "source": [
    "#for i, s in enumerate(statements):\n",
    "#    print(s)\n",
    "#    if i>10: break\n",
    "G.add_nodes_from(s.uid for s in statements)\n",
    "len(G)"
   ]
  },
  {
   "cell_type": "code",
   "execution_count": 6,
   "metadata": {},
   "outputs": [
    {
     "data": {
      "text/plain": [
       "16585"
      ]
     },
     "execution_count": 6,
     "metadata": {},
     "output_type": "execute_result"
    }
   ],
   "source": [
    "G.add_nodes_from(k for k,c in keyword_counts.items())\n",
    "len(G)"
   ]
  },
  {
   "cell_type": "code",
   "execution_count": 313,
   "metadata": {},
   "outputs": [
    {
     "data": {
      "text/plain": [
       "51556"
      ]
     },
     "execution_count": 313,
     "metadata": {},
     "output_type": "execute_result"
    }
   ],
   "source": [
    "# https://networkx.github.io/documentation/stable/reference/classes/generated/\n",
    "#   networkx.Graph.add_weighted_edges_from.html\n",
    "for i, s in enumerate(statements):\n",
    "    G.add_weighted_edges_from(\n",
    "        #(k, s.uid, 1.0) for k in s.keywords  # Evenly weighted :: Poor\n",
    "        #(k, s.uid, 1.0+i) for k in s.keywords  # Demonstrates that weightings are 'weight'\n",
    "        #(k, s.uid, 2.0-1.0/keyword_counts[k]) for k in s.keywords  # weight by how frequent keywords are\n",
    "        #(k, s.uid, 3.0-1.0/len(s.keywords)-1.0/keyword_counts[k]) for k in s.keywords   # bit of both\n",
    "        # Decent:\n",
    "        (k, s.uid, 2.0-1.0/len(s.keywords)) for k in s.keywords   # weight by how many keywords the statement has\n",
    "    )\n",
    "len(G.edges)"
   ]
  },
  {
   "cell_type": "code",
   "execution_count": 314,
   "metadata": {},
   "outputs": [],
   "source": [
    "# Effectively kill some nodes\n",
    "for node in ['be']:\n",
    "    G.add_weighted_edges_from((node, n, 100.) for n in G.neighbors(node) )        "
   ]
  },
  {
   "cell_type": "code",
   "execution_count": 315,
   "metadata": {},
   "outputs": [
    {
     "data": {
      "text/plain": [
       "['more', 'dense', 'water', 'iron']"
      ]
     },
     "execution_count": 315,
     "metadata": {},
     "output_type": "execute_result"
    }
   ],
   "source": [
    "#[n for n in G.neighbors('iron')]\n",
    "[n for n in G.neighbors('2ead-9402-4803-38bc')]"
   ]
  },
  {
   "cell_type": "code",
   "execution_count": 316,
   "metadata": {},
   "outputs": [
    {
     "data": {
      "text/plain": [
       "['iron', '2ead-9402-4803-38bc', 'water']"
      ]
     },
     "execution_count": 316,
     "metadata": {},
     "output_type": "execute_result"
    }
   ],
   "source": [
    "nx.dijkstra_path(G, 'iron', 'water')"
   ]
  },
  {
   "cell_type": "code",
   "execution_count": 317,
   "metadata": {},
   "outputs": [
    {
     "name": "stdout",
     "output_type": "stream",
     "text": [
      "['iron', '2ead-9402-4803-38bc', 'water']\n"
     ]
    }
   ],
   "source": [
    "for p in nx.all_shortest_paths(G, 'iron', 'water', weight='weight'): \n",
    "    print(p)"
   ]
  },
  {
   "cell_type": "code",
   "execution_count": 318,
   "metadata": {},
   "outputs": [
    {
     "name": "stdout",
     "output_type": "stream",
     "text": [
      "rust\n",
      "   > 6d3e-e79a-9d08-519b : iron in contact with water and oxygen will rust\n",
      "water\n",
      "\n"
     ]
    }
   ],
   "source": [
    "def explain_path(p):\n",
    "    for i,n in enumerate(p):\n",
    "        #if i%2>1:\n",
    "        if len(n)==19:  # a uid\n",
    "            print(\"   > \"+n+\" : \"+statements_by_uid[n].raw_txt)\n",
    "        else:\n",
    "            print(n)\n",
    "    print()\n",
    "\n",
    "explain_path( nx.dijkstra_path(G, 'rust', 'water') )"
   ]
  },
  {
   "cell_type": "code",
   "execution_count": 319,
   "metadata": {
    "scrolled": true
   },
   "outputs": [
    {
     "name": "stdout",
     "output_type": "stream",
     "text": [
      "saltwater\n",
      "   > d60d-6c10-0203-e659 : saltwater is a kind of substance\n",
      "substance\n",
      "   > 2a76-307e-23d8-5e78 : bringing substances to the body is a kind of function\n",
      "bring\n",
      "   > 1ced-cf2e-c041-478c : to cause is similar to bring\n",
      "cause\n",
      "   > ac5e-7fdf-8cec-126d : a cause of something is a reason for that something\n",
      "reason\n",
      "\n",
      "saltwater\n",
      "   > d60d-6c10-0203-e659 : saltwater is a kind of substance\n",
      "substance\n",
      "   > 2a76-307e-23d8-5e78 : bringing substances to the body is a kind of function\n",
      "function\n",
      "   > da58-addb-0630-0b89 : causing is a kind of function\n",
      "cause\n",
      "   > ac5e-7fdf-8cec-126d : a cause of something is a reason for that something\n",
      "reason\n",
      "\n",
      "saltwater\n",
      "   > d60d-6c10-0203-e659 : saltwater is a kind of substance\n",
      "substance\n",
      "   > bdf8-fbda-ff94-54f5 : a hot substance is a source of heat\n",
      "source\n",
      "   > 4bc3-00d6-bc97-8838 : to be a source of something means to cause that something\n",
      "cause\n",
      "   > ac5e-7fdf-8cec-126d : a cause of something is a reason for that something\n",
      "reason\n",
      "\n",
      "saltwater\n",
      "   > d60d-6c10-0203-e659 : saltwater is a kind of substance\n",
      "substance\n",
      "   > 106e-2222-3210-7a28 : a volatile substance gives off gas\n",
      "give\n",
      "   > b949-9e0c-0ea0-b168 : to give is similar to to cause\n",
      "cause\n",
      "   > ac5e-7fdf-8cec-126d : a cause of something is a reason for that something\n",
      "reason\n",
      "\n"
     ]
    }
   ],
   "source": [
    "for p in nx.all_shortest_paths(G, 'saltwater', 'reason', weight='weight'): \n",
    "    explain_path( p )"
   ]
  },
  {
   "cell_type": "code",
   "execution_count": null,
   "metadata": {},
   "outputs": [],
   "source": []
  },
  {
   "cell_type": "code",
   "execution_count": null,
   "metadata": {},
   "outputs": [],
   "source": []
  },
  {
   "cell_type": "code",
   "execution_count": 320,
   "metadata": {},
   "outputs": [],
   "source": [
    "regenerate=False\n",
    "#qanda_train = dataset.load_qanda('train', regenerate=regenerate) # 1.8MB\n",
    "qanda_dev   = dataset.load_qanda('dev', regenerate=regenerate)   # 400k in 496 lines\n",
    "#qanda_test  = dataset.load_qanda('test', regenerate=regenerate)  # 800k"
   ]
  },
  {
   "cell_type": "code",
   "execution_count": 321,
   "metadata": {},
   "outputs": [],
   "source": [
    "preds_baseline=dict() # qa_id -> [statements in order]\n",
    "with open('/tmp/scorer/predict.txt', 'rt') as f:\n",
    "    for l in f.readlines():\n",
    "        qid, uid = l.strip().split('\\t')\n",
    "        if qid not in preds_baseline: preds_baseline[qid]=[]\n",
    "        preds_baseline[qid].append(uid)"
   ]
  },
  {
   "cell_type": "code",
   "execution_count": null,
   "metadata": {},
   "outputs": [],
   "source": []
  },
  {
   "cell_type": "code",
   "execution_count": 322,
   "metadata": {},
   "outputs": [
    {
     "name": "stdout",
     "output_type": "stream",
     "text": [
      "MCAS_2003_8_25 success\n",
      "Q: In an automobile, which of the following components is designed specifically to give feedback to the driver?\n",
      "   {'automobile', 'specifically', 'design', 'feedback', 'driver', 'give', 'follow', 'component'}\n",
      "A0: speedometer\n",
      "   {'speedometer'}\n",
      "A1: steering wheel\n",
      "   {'wheel', 'steering'}\n",
      "A2: brake pedal\n",
      "   {'pedal', 'brake'}\n",
      "A3: car key\n",
      "   {'key', 'car'}\n",
      "explanation_gold:\n",
      "  0a7c-d9fa-1622-6881 : a speedometer is used for giving a driver feedback on the speed of their vehicle\n",
      "                          : {'speedometer', 'feedback', 'speed', 'driver', 'give', 'vehicle'}\n",
      "  7cb7-40ac-f4d5-eb6c : an automobile is a kind of vehicle\n",
      "                          : {'automobile', 'vehicle'}\n",
      "  9948-f6ec-f997-4905 : a speedometer is a part of an automobile\n",
      "                          : {'part', 'automobile', 'speedometer'}\n",
      "  10d3-297c-e0e5-8531 : a component means a part of\n",
      "                          : {'part', 'component'}\n",
      "\n",
      "baseline MAP = 0.8929\n"
     ]
    }
   ],
   "source": [
    "qa = qanda_dev[485]  #212  #4=astronomy\n",
    "\n",
    "print(qa.question_id, qa.flags)\n",
    "print(\"Q: \"+qa.question.raw_txt)\n",
    "print(\"  \", qa.question.keywords)\n",
    "for i,ans in enumerate(qa.answers):\n",
    "    print(f\"A{i:1d}: \"+ans.raw_txt)\n",
    "    print(\"  \", ans.keywords)\n",
    "print(\"explanation_gold:\")\n",
    "for ex in qa.explanation_gold:\n",
    "    print(f\"  {ex.uid} : {statements_by_uid[ex.uid].raw_txt}\")\n",
    "    print(f\"{' '*25} : {statements_by_uid[ex.uid].keywords}\")\n",
    "\n",
    "print()\n",
    "print(f\"\"\"baseline MAP = {dataset.silent_average_precision_score(\n",
    "    set(e.uid for e in qa.explanation_gold), preds_baseline[qa.question_id][:]):.4f}\"\"\")"
   ]
  },
  {
   "cell_type": "code",
   "execution_count": 323,
   "metadata": {},
   "outputs": [
    {
     "data": {
      "text/plain": [
       "{'automobile', 'part', 'speedometer'}"
      ]
     },
     "execution_count": 323,
     "metadata": {},
     "output_type": "execute_result"
    }
   ],
   "source": [
    "statements_by_uid[qa.explanation_gold[2].uid].keywords # .add('part')"
   ]
  },
  {
   "cell_type": "code",
   "execution_count": 324,
   "metadata": {},
   "outputs": [
    {
     "data": {
      "text/plain": [
       "('automobile,specifically,design,feedback,driver,give,follow,component',\n",
       " 'speedometer')"
      ]
     },
     "execution_count": 324,
     "metadata": {},
     "output_type": "execute_result"
    }
   ],
   "source": [
    "','.join(qa.question.keywords), ','.join(qa.answers[0].keywords)"
   ]
  },
  {
   "cell_type": "code",
   "execution_count": 325,
   "metadata": {},
   "outputs": [
    {
     "data": {
      "text/plain": [
       "'automobile,design,speedometer,feedback,driver,give,follow,component'"
      ]
     },
     "execution_count": 325,
     "metadata": {},
     "output_type": "execute_result"
    }
   ],
   "source": [
    "kw_all = qa.question.keywords | qa.answers[0].keywords\n",
    "kw_all = set([kw for kw in kw_all if kw in G.nodes]) # Only use those in the vocab ...\n",
    "','.join(kw_all)"
   ]
  },
  {
   "cell_type": "code",
   "execution_count": 326,
   "metadata": {},
   "outputs": [],
   "source": [
    "target='core'\n",
    "#kw_all-set([target])"
   ]
  },
  {
   "cell_type": "code",
   "execution_count": 327,
   "metadata": {},
   "outputs": [
    {
     "name": "stdout",
     "output_type": "stream",
     "text": [
      "component\n",
      "   > 7743-074e-340e-e2e9 : a component of something means a part of that something\n",
      "part\n",
      "   > 9948-f6ec-f997-4905 : a speedometer is a part of an automobile\n",
      "speedometer\n",
      "\n"
     ]
    }
   ],
   "source": [
    "#d,p=nx.multi_source_dijkstra(G, kw_all-set([target]), target=target, weight='weight')\n",
    "d,p=nx.multi_source_dijkstra(G, ['component'], target='speedometer', weight='weight')\n",
    "#print(p)\n",
    "explain_path( p ) # This is not great..."
   ]
  },
  {
   "cell_type": "code",
   "execution_count": 328,
   "metadata": {
    "scrolled": true
   },
   "outputs": [
    {
     "name": "stdout",
     "output_type": "stream",
     "text": [
      "0/7\n",
      "automobile\n",
      "   > 9948-f6ec-f997-4905 : a speedometer is a part of an automobile\n",
      "speedometer\n",
      "\n",
      "1/7\n",
      "design\n",
      "   > f885-fb7a-bfbb-9858 : a computer-aided design program can be used to draw three-dimensional objects with exact dimensions and angles\n",
      "object\n",
      "   > 21c4-0d4f-7e3c-12f6 : an object is made of its parts\n",
      "part\n",
      "   > 9948-f6ec-f997-4905 : a speedometer is a part of an automobile\n",
      "speedometer\n",
      "\n",
      "2/7\n",
      "feedback\n",
      "   > 0a7c-d9fa-1622-6881 : a speedometer is used for giving a driver feedback on the speed of their vehicle\n",
      "speedometer\n",
      "\n",
      "3/7\n",
      "driver\n",
      "   > 0a7c-d9fa-1622-6881 : a speedometer is used for giving a driver feedback on the speed of their vehicle\n",
      "speedometer\n",
      "\n",
      "4/7\n",
      "give\n",
      "   > 0a7c-d9fa-1622-6881 : a speedometer is used for giving a driver feedback on the speed of their vehicle\n",
      "speedometer\n",
      "\n",
      "5/7\n",
      "follow\n",
      "   > b15f-4dc7-7fdd-4f51 : In the water cycle , transpiration always follows plant uptake\n",
      "plant\n",
      "   > ed05-7140-7262-f394 : plant parts are made of plants\n",
      "part\n",
      "   > 9948-f6ec-f997-4905 : a speedometer is a part of an automobile\n",
      "speedometer\n",
      "\n",
      "6/7\n",
      "component\n",
      "   > 7743-074e-340e-e2e9 : a component of something means a part of that something\n",
      "part\n",
      "   > 9948-f6ec-f997-4905 : a speedometer is a part of an automobile\n",
      "speedometer\n",
      "\n",
      "component\n",
      "   > 10d3-297c-e0e5-8531 : a component means a part of\n",
      "part\n",
      "   > 9948-f6ec-f997-4905 : a speedometer is a part of an automobile\n",
      "speedometer\n",
      "\n"
     ]
    },
    {
     "data": {
      "text/plain": [
       "8"
      ]
     },
     "execution_count": 328,
     "metadata": {},
     "output_type": "execute_result"
    }
   ],
   "source": [
    "#kw_arr = list(kw_all)\n",
    "#srcs, tgts, limit_i_j = kw_all, kw_all, True\n",
    "srcs, tgts, limit_i_j = qa.question.keywords, qa.answers[0].keywords, False\n",
    "\n",
    "srcs = set([n for n in srcs if n in G.nodes]) # Only use those in the vocab ...\n",
    "tgts = set([n for n in tgts if n in G.nodes]) # Only use those in the vocab ...\n",
    "\n",
    "node_cnt=dict()\n",
    "for i, src in enumerate(srcs):\n",
    "    print(f\"{i}/{len(srcs)}\")\n",
    "    for j, tgt in enumerate(tgts):\n",
    "        if limit_i_j and i>=j: continue\n",
    "        for p in nx.all_shortest_paths(G, src, tgt, weight='weight'): \n",
    "            explain_path( p )\n",
    "            for k,n in enumerate(p):\n",
    "                if k%2==0:continue\n",
    "                if n not in node_cnt: node_cnt[n]=0\n",
    "                node_cnt[n]+=1\n",
    "len(node_cnt)"
   ]
  },
  {
   "cell_type": "code",
   "execution_count": 329,
   "metadata": {
    "scrolled": true
   },
   "outputs": [
    {
     "data": {
      "text/plain": [
       "8"
      ]
     },
     "execution_count": 329,
     "metadata": {},
     "output_type": "execute_result"
    }
   ],
   "source": [
    "nodes_desc = sorted(node_cnt.items(),key=lambda n:-n[1])\n",
    "#nodes_desc[:10]\n",
    "len(nodes_desc)"
   ]
  },
  {
   "cell_type": "code",
   "execution_count": 330,
   "metadata": {},
   "outputs": [
    {
     "data": {
      "text/plain": [
       "['    5 : 9948-f6ec-f997-4905 : a speedometer is a part of an automobile',\n",
       " '    3 : 0a7c-d9fa-1622-6881 : a speedometer is used for giving a driver feedback on the speed of their vehicle',\n",
       " '    1 : f885-fb7a-bfbb-9858 : a computer-aided design program can be used to draw three-dimensional objects with exact dimensions and angles',\n",
       " '    1 : 21c4-0d4f-7e3c-12f6 : an object is made of its parts',\n",
       " '    1 : b15f-4dc7-7fdd-4f51 : In the water cycle , transpiration always follows plant uptake',\n",
       " '    1 : ed05-7140-7262-f394 : plant parts are made of plants',\n",
       " '    1 : 7743-074e-340e-e2e9 : a component of something means a part of that something',\n",
       " '    1 : 10d3-297c-e0e5-8531 : a component means a part of']"
      ]
     },
     "execution_count": 330,
     "metadata": {},
     "output_type": "execute_result"
    }
   ],
   "source": [
    "[ f\"{cnt:5d} : {uid:s} : {statements_by_uid[uid].raw_txt}\" for uid,cnt in nodes_desc ][:10]"
   ]
  },
  {
   "cell_type": "code",
   "execution_count": 331,
   "metadata": {},
   "outputs": [
    {
     "name": "stdout",
     "output_type": "stream",
     "text": [
      "10000 : baseline=0.8929, graph=0.5938\n",
      "   64 : baseline=0.8929, graph=0.5938\n",
      "   32 : baseline=0.8929, graph=0.5938\n",
      "   16 : baseline=0.8929, graph=0.5938\n",
      "recall:          1.0000        0.7500 \n"
     ]
    }
   ],
   "source": [
    "gold_ex_uid = set(e.uid for e in qa.explanation_gold)\n",
    "preds_uid   = preds_baseline[qa.question_id]\n",
    "\n",
    "def base_uids_list(arr):\n",
    "    base_arr=[]\n",
    "    for a in arr: \n",
    "        base=a[:19]\n",
    "        if base not in base_arr: base_arr.append(base)\n",
    "    return base_arr\n",
    "\n",
    "nodes_uid   = base_uids_list( [uid for uid,_ in nodes_desc] )\n",
    "\n",
    "for limit in [10000, 64, 32,16] :\n",
    "    sc_baseline= dataset.silent_average_precision_score(\n",
    "                   gold_ex_uid, preds_uid[:limit])\n",
    "    sc_graph   = dataset.silent_average_precision_score(\n",
    "                   gold_ex_uid, nodes_uid[:limit])\n",
    "    print(f\"{limit:5d} : baseline={sc_baseline:.4f}, graph={sc_graph:.4f}\")\n",
    "print(f\"recall:          {len(gold_ex_uid & set(preds_uid[:64]))/len(gold_ex_uid):.4f}\"+\n",
    "               f\"        {len(gold_ex_uid & set(nodes_uid[:64]))/len(gold_ex_uid):.4f} \")"
   ]
  },
  {
   "cell_type": "code",
   "execution_count": 332,
   "metadata": {},
   "outputs": [],
   "source": [
    "# Agrees with baseline scoring... (good job too, since it's the actual scorer)\n",
    "# python ../tg2020task/evaluate.py --gold ../tg2020task/questions.dev.tsv /tmp/scorer/predict.txt "
   ]
  },
  {
   "cell_type": "code",
   "execution_count": 333,
   "metadata": {
    "scrolled": true
   },
   "outputs": [],
   "source": [
    "def get_min_distance_statements(qa, all_to_all=False):\n",
    "    if all_to_all:\n",
    "        kw_all = qa.question.keywords | qa.answers[0].keywords\n",
    "        #kw_all = set([kw for kw in kw_all if kw in G.nodes]) # Only use those in the vocab ...\n",
    "        #print(len(kw_all))\n",
    "        srcs, tgts, limit_i_j = kw_all, kw_all, True\n",
    "    else:\n",
    "        srcs, tgts, limit_i_j = qa.question.keywords, qa.answers[0].keywords, False\n",
    "\n",
    "    srcs = set([n for n in srcs if n in G.nodes]) # Only use those in the vocab ...\n",
    "    tgts = set([n for n in tgts if n in G.nodes]) # Only use those in the vocab ...\n",
    "        \n",
    "    node_cnt=dict()\n",
    "    for i, src in enumerate(srcs):\n",
    "        #print(f\"{i}/{len(srcs)}\")\n",
    "        for j, tgt in enumerate(tgts):\n",
    "            if limit_i_j and i>=j: continue\n",
    "            try:\n",
    "                paths = nx.all_shortest_paths(G, src, tgt, weight='weight')\n",
    "                for p in paths: \n",
    "                    #explain_path( p )\n",
    "                    for k,n in enumerate(p):\n",
    "                        #if k%2==0:continue\n",
    "                        if len(n)<19:continue  # Ignore the keywords\n",
    "                        if n not in node_cnt: node_cnt[n]=0\n",
    "                        node_cnt[n]+=1\n",
    "            except:\n",
    "                print(\"  Cannot get to \"+tgt)\n",
    "    nodes_desc = sorted(node_cnt.items(),key=lambda n:-n[1])\n",
    "    #print(nodes_desc)\n",
    "    nodes_uid   = base_uids_list( [uid for uid,_ in nodes_desc] )\n",
    "    return nodes_uid\n",
    "\n",
    "\n",
    "#qa = qanda_dev[4]  #212  #4=astronomy    \n",
    "if False:\n",
    "    #with open(\"/tmp/scorer/predict_graph.txt\", \"wt\") as f:\n",
    "    with open(\"../predictions/predict_graph-q-to-a.txt\", \"wt\") as f:\n",
    "        for qa_i, qa in enumerate(qanda_dev):\n",
    "            print(f\"Running : {qa_i}\")\n",
    "            uids = get_min_distance_statements(qa)  #, all_to_all=True) \n",
    "            for uid in uids:\n",
    "                f.write(f\"{qa.question_id}\\t{uid}\\n\")\n",
    "#get_min_distance_statements(qanda_dev[486])"
   ]
  },
  {
   "cell_type": "code",
   "execution_count": 334,
   "metadata": {},
   "outputs": [],
   "source": [
    "# python ../tg2020task/evaluate.py --gold ../tg2020task/questions.dev.tsv /tmp/scorer/predict_graph.txt\n"
   ]
  },
  {
   "cell_type": "code",
   "execution_count": 335,
   "metadata": {},
   "outputs": [
    {
     "name": "stdout",
     "output_type": "stream",
     "text": [
      "SCONJ if if\n",
      "DET a a\n",
      "NOUN substance substance\n",
      "AUX has have\n",
      "DET a a\n",
      "ADJ higher high\n",
      "NOUN density density\n",
      "SCONJ than than\n",
      "DET another another\n",
      "NOUN substance substance\n",
      "PUNCT , ,\n",
      "ADV then then\n",
      "DET the the\n",
      "NOUN molecules molecule\n",
      "ADP in in\n",
      "DET the the\n",
      "NOUN substance substance\n",
      "VERB will will\n",
      "AUX be be\n",
      "ADJ closer close\n",
      "SCONJ than than\n",
      "DET those those\n",
      "ADP of of\n",
      "DET the the\n",
      "ADJ other other\n",
      "NOUN substance substance\n"
     ]
    }
   ],
   "source": [
    "for t in dataset.nlp('if a substance has a higher density than another substance , then the molecules in the substance will be closer than those of the other substance'):\n",
    "#for t in dataset.nlp('About how many times does the moon orbit Earth in a year?'):\n",
    "#for t in dataset.nlp('approximately means about'):\n",
    "    print(t.pos_, t.text, t.lemma_)\n",
    "# ADP About about ..."
   ]
  },
  {
   "cell_type": "code",
   "execution_count": null,
   "metadata": {},
   "outputs": [],
   "source": []
  },
  {
   "cell_type": "code",
   "execution_count": null,
   "metadata": {},
   "outputs": [],
   "source": []
  },
  {
   "cell_type": "code",
   "execution_count": 336,
   "metadata": {},
   "outputs": [],
   "source": [
    "# Different idea : let's create a new graph from the QuestionAnswer and the known explanation_gold nodes\n",
    "#   Then : Have a look at nodes that only have 1 edge"
   ]
  },
  {
   "cell_type": "code",
   "execution_count": 337,
   "metadata": {},
   "outputs": [],
   "source": [
    "# https://networkx.github.io/documentation/stable/reference/classes/generated/networkx.Graph.subgraph.html"
   ]
  },
  {
   "cell_type": "code",
   "execution_count": 338,
   "metadata": {},
   "outputs": [
    {
     "data": {
      "text/plain": [
       "(8, 'automobile,design,speedometer,feedback,driver,give,follow,component')"
      ]
     },
     "execution_count": 338,
     "metadata": {},
     "output_type": "execute_result"
    }
   ],
   "source": [
    "kw_all = qa.question.keywords | qa.answers[0].keywords\n",
    "copy_qa = set([kw for kw in kw_all if kw in G.nodes]) # Only use those in the vocab ...\n",
    "len(copy_qa), ','.join(copy_qa)"
   ]
  },
  {
   "cell_type": "code",
   "execution_count": 339,
   "metadata": {},
   "outputs": [
    {
     "data": {
      "text/plain": [
       "(4,\n",
       " '9948-f6ec-f997-4905,10d3-297c-e0e5-8531,7cb7-40ac-f4d5-eb6c,0a7c-d9fa-1622-6881')"
      ]
     },
     "execution_count": 339,
     "metadata": {},
     "output_type": "execute_result"
    }
   ],
   "source": [
    "copy_gold = set([e.uid for e in qa.explanation_gold])\n",
    "len(copy_gold), ','.join(copy_gold)"
   ]
  },
  {
   "cell_type": "code",
   "execution_count": 340,
   "metadata": {},
   "outputs": [
    {
     "name": "stdout",
     "output_type": "stream",
     "text": [
      "9948-f6ec-f997-4905 ['automobile', 'speedometer', 'part']\n",
      "10d3-297c-e0e5-8531 ['part', 'component']\n",
      "7cb7-40ac-f4d5-eb6c ['automobile', 'vehicle']\n",
      "0a7c-d9fa-1622-6881 ['speedometer', 'feedback', 'speed', 'driver', 'give', 'vehicle']\n"
     ]
    }
   ],
   "source": [
    "for c in copy_gold:\n",
    "    print(c, list(G.neighbors(c)))"
   ]
  },
  {
   "cell_type": "code",
   "execution_count": 341,
   "metadata": {},
   "outputs": [
    {
     "data": {
      "text/plain": [
       "(9, 'automobile,component,driver,feedback,give,part,speed,speedometer,vehicle')"
      ]
     },
     "execution_count": 341,
     "metadata": {},
     "output_type": "execute_result"
    }
   ],
   "source": [
    "copy_adj = set([nbr for n in copy_gold for nbr in G.neighbors(n) ]) # Order of for loops v important\n",
    "len(copy_adj), ','.join(sorted(copy_adj))"
   ]
  },
  {
   "cell_type": "code",
   "execution_count": 342,
   "metadata": {},
   "outputs": [],
   "source": [
    "#copy_nodes = set([n for lst in [copy_gold, copy_adj, copy_qa] for n in lst])\n",
    "#len(copy_nodes), ','.join(sorted(copy_nodes))"
   ]
  },
  {
   "cell_type": "code",
   "execution_count": 343,
   "metadata": {},
   "outputs": [
    {
     "data": {
      "text/plain": [
       "15"
      ]
     },
     "execution_count": 343,
     "metadata": {},
     "output_type": "execute_result"
    }
   ],
   "source": [
    "SG = G.__class__()\n",
    "SG.add_nodes_from((n, G.nodes[n]) for n in copy_gold )   \n",
    "SG.add_nodes_from((n, G.nodes[n]) for n in copy_adj )   \n",
    "SG.add_nodes_from((n, G.nodes[n]) for n in copy_qa )   \n",
    "SG.add_edges_from((n, nbr, d)\n",
    "    for n, nbrs in G.adj.items() if n in copy_gold\n",
    "    for nbr, d in nbrs.items() if nbr in copy_adj)\n",
    "SG.add_edges_from((n, nbr, d)\n",
    "    for n, nbrs in G.adj.items() if n in copy_gold\n",
    "    for nbr, d in nbrs.items() if nbr in copy_qa)\n",
    "len(SG)"
   ]
  },
  {
   "cell_type": "code",
   "execution_count": 344,
   "metadata": {},
   "outputs": [
    {
     "name": "stdout",
     "output_type": "stream",
     "text": [
      "feedback 1\n",
      "speed 1\n",
      "driver 1\n",
      "give 1\n",
      "component 1\n",
      "design 0\n",
      "follow 0\n"
     ]
    }
   ],
   "source": [
    "# Now for the nodes with only one edge:\n",
    "for n in SG.nodes:\n",
    "    l=len(list(SG.neighbors(n)))\n",
    "    if l<=1:\n",
    "        print(n, l)"
   ]
  },
  {
   "cell_type": "code",
   "execution_count": 345,
   "metadata": {},
   "outputs": [
    {
     "name": "stdout",
     "output_type": "stream",
     "text": [
      "question keywords ['automobile', 'design', 'feedback', 'driver', 'give', 'follow', 'component']\n",
      "answers[0] keywords ['speedometer']\n",
      "leaf nodes ['speed']\n"
     ]
    },
    {
     "data": {
      "text/plain": [
       "(['design', 'follow'], [], {'speed'}, ['part', 'vehicle'])"
      ]
     },
     "execution_count": 345,
     "metadata": {},
     "output_type": "execute_result"
    }
   ],
   "source": [
    "def get_lonely_nodes(ex_list, copy_qa=copy_qa, ):\n",
    "    copy_adj = set([nbr for n in ex_list for nbr in G.neighbors(n) ]) # Order of for loops v important\n",
    "    \n",
    "    SG = G.__class__()\n",
    "    SG.add_nodes_from((n, G.nodes[n]) for n in ex_list )   \n",
    "    SG.add_nodes_from((n, G.nodes[n]) for n in copy_adj )   \n",
    "    SG.add_nodes_from((n, G.nodes[n]) for n in copy_qa )   \n",
    "    SG.add_edges_from((n, nbr, d)\n",
    "        for n, nbrs in G.adj.items() if n in ex_list\n",
    "        for nbr, d in nbrs.items() if nbr in copy_adj)\n",
    "    SG.add_edges_from((n, nbr, d)\n",
    "        for n, nbrs in G.adj.items() if n in ex_list\n",
    "        for nbr, d in nbrs.items() if nbr in copy_qa)\n",
    "    #print(len(SG))\n",
    "    print(\"question keywords\", [n for n in (qa.question.keywords) if n in SG.nodes])\n",
    "    print(\"answers[0] keywords\", [n for n in (qa.answers[0].keywords) if n in SG.nodes])\n",
    "    print(\"leaf nodes\", [n for n in (SG.nodes - copy_qa) if len(list(SG.neighbors(n)))<=1 ])\n",
    "    \n",
    "    # qa.question.keywords | qa.answers[0].keywords\n",
    "    empty_q = [n for n in (qa.question.keywords)\n",
    "                if n in SG.nodes and len(list(SG.neighbors(n)))==0 ]\n",
    "    empty_a = [n for n in (qa.answers[0].keywords)\n",
    "                if n in SG.nodes and len(list(SG.neighbors(n)))==0 ]\n",
    "    lonely_leaf = set( [n for n in (SG.nodes - copy_qa)\n",
    "                    if len(list(SG.neighbors(n)))<=1 ] )\n",
    "    \n",
    "    # Links between explanation statements\n",
    "    # == non-qa and non-leaf words?\n",
    "    #  ?+? multi-linked qa words?\n",
    "    statement_links = [n for n in (SG.nodes - copy_qa - lonely_leaf)\n",
    "                                if len(n)!=19 ]\n",
    "    \n",
    "    return empty_q, empty_a, lonely_leaf, statement_links\n",
    "\n",
    "get_lonely_nodes(copy_gold)"
   ]
  },
  {
   "cell_type": "code",
   "execution_count": 346,
   "metadata": {},
   "outputs": [
    {
     "name": "stdout",
     "output_type": "stream",
     "text": [
      "  0a7c-d9fa-1622-6881 : a speedometer is used for giving a driver feedback on the speed of their vehicle\n",
      "          {'speedometer', 'feedback', 'speed', 'driver', 'give', 'vehicle'}\n",
      "  10d3-297c-e0e5-8531 : a component means a part of\n",
      "          {'part', 'component'}\n",
      "  7cb7-40ac-f4d5-eb6c : an automobile is a kind of vehicle\n",
      "          {'automobile', 'vehicle'}\n",
      "  9948-f6ec-f997-4905 : a speedometer is a part of an automobile\n",
      "          {'part', 'automobile', 'speedometer'}\n"
     ]
    }
   ],
   "source": [
    "for uid in sorted(copy_gold):\n",
    "    s = statements_by_uid[uid]\n",
    "    print(f\"  {uid} : {s.raw_txt}\")\n",
    "    print(f\"          {s.keywords}\")"
   ]
  },
  {
   "cell_type": "code",
   "execution_count": null,
   "metadata": {},
   "outputs": [],
   "source": []
  },
  {
   "cell_type": "code",
   "execution_count": null,
   "metadata": {},
   "outputs": [],
   "source": []
  },
  {
   "cell_type": "code",
   "execution_count": 353,
   "metadata": {},
   "outputs": [
    {
     "name": "stdout",
     "output_type": "stream",
     "text": [
      "question keywords ['automobile', 'design', 'feedback', 'driver', 'give', 'follow', 'component']\n",
      "answers[0] keywords ['speedometer']\n",
      "leaf nodes ['speed', 'source', 'vehicle']\n"
     ]
    },
    {
     "data": {
      "text/plain": [
       "(['design', 'follow'], [], {'source', 'speed', 'vehicle'}, ['part'])"
      ]
     },
     "execution_count": 353,
     "metadata": {},
     "output_type": "execute_result"
    }
   ],
   "source": [
    "# Now look at the predictions from baseline_retrieval\n",
    "ex_guess = preds_baseline[qa.question_id][:5]\n",
    "get_lonely_nodes( ex_guess )"
   ]
  },
  {
   "cell_type": "code",
   "execution_count": 352,
   "metadata": {
    "scrolled": true
   },
   "outputs": [
    {
     "name": "stdout",
     "output_type": "stream",
     "text": [
      "  0a7c-d9fa-1622-6881 : a speedometer is used for giving a driver feedback on the speed of their vehicle\n",
      "          {'speedometer', 'feedback', 'speed', 'driver', 'give', 'vehicle'}\n",
      "  9948-f6ec-f997-4905 : a speedometer is a part of an automobile\n",
      "          {'part', 'automobile', 'speedometer'}\n",
      "  10d3-297c-e0e5-8531 : a component means a part of\n",
      "          {'part', 'component'}\n",
      "  7743-074e-340e-e2e9 : a component of something means a part of that something\n",
      "          {'part', 'component'}\n",
      "  c273-104b-3c47-f637 : to give off means to be the source of\n",
      "          {'source', 'give'}\n",
      "  9749-fd22-c617-e673 : give off is similar to make\n",
      "          {'make', 'give'}\n",
      "  7cb7-40ac-f4d5-eb6c : an automobile is a kind of vehicle\n",
      "          {'automobile', 'vehicle'}\n",
      "  e112-616e-e25b-4a79 : a circuit is a kind of electrical component\n",
      "          {'electrical', 'circuit', 'component'}\n",
      "  eb14-f908-f76d-7cf0 : a car is a kind of automobile\n",
      "          {'automobile', 'car'}\n",
      "  f8ad-6ff2-e6fa-3dee : the automobile is a kind of technology\n",
      "          {'technology', 'automobile'}\n",
      "  ee3d-0882-7227-7371 : if something is made of something else , then that something else will be the component of that something\n",
      "          {'make', 'else', 'something', 'component'}\n",
      "  3c28-d2a7-4f05-ca25 : an engine is a part of an automobile\n",
      "          {'automobile', 'engine'}\n",
      "  592d-2f52-9188-a808 : if the component of something changed , then the whole thing will change\n",
      "          {'change', 'thing', 'whole', 'component'}\n",
      "  b949-9e0c-0ea0-b168 : to give is similar to to cause\n",
      "          {'cause', 'give'}\n"
     ]
    }
   ],
   "source": [
    "for uid in ex_guess:\n",
    "    s = statements_by_uid[uid]\n",
    "    print(f\"  {uid} : {s.raw_txt}\")\n",
    "    print(f\"          {s.keywords}\")"
   ]
  },
  {
   "cell_type": "code",
   "execution_count": null,
   "metadata": {},
   "outputs": [],
   "source": []
  },
  {
   "cell_type": "code",
   "execution_count": null,
   "metadata": {},
   "outputs": [],
   "source": []
  },
  {
   "cell_type": "code",
   "execution_count": null,
   "metadata": {},
   "outputs": [],
   "source": []
  },
  {
   "cell_type": "code",
   "execution_count": null,
   "metadata": {},
   "outputs": [],
   "source": []
  }
 ],
 "metadata": {
  "kernelspec": {
   "display_name": "Python 3",
   "language": "python",
   "name": "python3"
  },
  "language_info": {
   "codemirror_mode": {
    "name": "ipython",
    "version": 3
   },
   "file_extension": ".py",
   "mimetype": "text/x-python",
   "name": "python",
   "nbconvert_exporter": "python",
   "pygments_lexer": "ipython3",
   "version": "3.8.3"
  }
 },
 "nbformat": 4,
 "nbformat_minor": 4
}
